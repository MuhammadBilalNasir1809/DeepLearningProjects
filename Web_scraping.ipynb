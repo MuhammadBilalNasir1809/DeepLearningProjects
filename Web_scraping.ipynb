{
 "cells": [
  {
   "cell_type": "code",
   "execution_count": 1,
   "id": "e925b722-6e18-4dc9-8b5e-2511cb8f85e8",
   "metadata": {},
   "outputs": [
    {
     "name": "stdout",
     "output_type": "stream",
     "text": [
      "Error scraping the webpage: HTTPSConnectionPool(host='unsplash.com', port=443): Max retries exceeded with url: /s/photos/mangoes (Caused by NameResolutionError(\"<urllib3.connection.HTTPSConnection object at 0x000001B87FDB28D0>: Failed to resolve 'unsplash.com' ([Errno 11001] getaddrinfo failed)\"))\n"
     ]
    }
   ],
   "source": [
    "import requests\n",
    "from bs4 import BeautifulSoup\n",
    "import os\n",
    "import urllib.parse\n",
    "import re\n",
    "from PIL import Image\n",
    "from io import BytesIO\n",
    "\n",
    "# Set up\n",
    "base_url = 'https://unsplash.com/s/photos/mangoes'\n",
    "image_folder = 'fruit_images/Mango'\n",
    "\n",
    "# Create directories if not exist\n",
    "os.makedirs(image_folder, exist_ok=True)\n",
    "\n",
    "# Function to sanitize filenames\n",
    "def sanitize_filename(filename):\n",
    "    return re.sub(r'[\\/:*?\"<>|]', '', filename)\n",
    "\n",
    "# Function to download and save image\n",
    "def download_image(url, folder):\n",
    "    try:\n",
    "        response = requests.get(url, stream=True, timeout=10)\n",
    "        if response.status_code == 200:\n",
    "            try:\n",
    "                image = Image.open(BytesIO(response.content))\n",
    "                if image.mode != 'RGB':\n",
    "                    image = image.convert('RGB')  # Convert image to RGB mode if not already\n",
    "                file_name = sanitize_filename(url.split('/')[-1])\n",
    "                if not file_name.lower().endswith('.jpeg'):\n",
    "                    file_name += '.jpeg'\n",
    "                file_path = os.path.join(folder, file_name)\n",
    "                image.save(file_path, 'JPEG')\n",
    "                print(f\"Saved image to {file_path}\")\n",
    "                return file_path\n",
    "            except Exception as e:\n",
    "                print(f\"Failed to save image {url}: {e}\")\n",
    "        else:\n",
    "            print(f\"Failed to download image {url}, status code: {response.status_code}\")\n",
    "    except Exception as e:\n",
    "        print(f\"Error downloading image {url}: {e}\")\n",
    "    return None\n",
    "\n",
    "# Scrape the webpage\n",
    "try:\n",
    "    response = requests.get(base_url)\n",
    "    response.raise_for_status()\n",
    "    soup = BeautifulSoup(response.text, 'html.parser')\n",
    "\n",
    "    # Find all image tags\n",
    "    images = soup.find_all('img')\n",
    "\n",
    "    # Download and save images\n",
    "    for img in images:\n",
    "        img_url = img.get('src')\n",
    "        if img_url:\n",
    "            if not img_url.startswith('http'):\n",
    "                # Create full URL if necessary\n",
    "                img_url = urllib.parse.urljoin(base_url, img_url)\n",
    "            download_image(img_url, image_folder)\n",
    "\n",
    "    print('Image downloading completed.')\n",
    "except Exception as e:\n",
    "    print(f\"Error scraping the webpage: {e}\")\n"
   ]
  },
  {
   "cell_type": "code",
   "execution_count": 4,
   "id": "3ce839a7-e28d-41ba-820a-75b413ada153",
   "metadata": {},
   "outputs": [
    {
     "name": "stdout",
     "output_type": "stream",
     "text": [
      "Number of items in the folder: 83\n"
     ]
    }
   ],
   "source": [
    "import os\n",
    "\n",
    "folder_path = 'fruit_images/Banana'\n",
    "num_items = len([item for item in os.listdir(folder_path) if os.path.isfile(os.path.join(folder_path, item))])\n",
    "\n",
    "print(f'Number of items in the folder: {num_items}')\n"
   ]
  },
  {
   "cell_type": "code",
   "execution_count": null,
   "id": "61fafa75-4164-46f1-bb0b-3dc10204f5e3",
   "metadata": {},
   "outputs": [],
   "source": []
  },
  {
   "cell_type": "code",
   "execution_count": null,
   "id": "97d6a5a5-06b2-4bb0-b167-2fae8c5c852a",
   "metadata": {},
   "outputs": [],
   "source": []
  }
 ],
 "metadata": {
  "kernelspec": {
   "display_name": "Python 3 (ipykernel)",
   "language": "python",
   "name": "python3"
  },
  "language_info": {
   "codemirror_mode": {
    "name": "ipython",
    "version": 3
   },
   "file_extension": ".py",
   "mimetype": "text/x-python",
   "name": "python",
   "nbconvert_exporter": "python",
   "pygments_lexer": "ipython3",
   "version": "3.12.2"
  }
 },
 "nbformat": 4,
 "nbformat_minor": 5
}
